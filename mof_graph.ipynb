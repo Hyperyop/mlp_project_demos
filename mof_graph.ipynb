{
 "cells": [
  {
   "cell_type": "markdown",
   "metadata": {},
   "source": [
    "# Generating a graph from a \".cif\" file (MOF structure)\n",
    "\n",
    "## Prerequisites\n",
    "\n",
    "### Python Libraries\n",
    "1. Python (tested on 3.9.1)\n",
    "2. Numpy (tested on 1.20.2)\n",
    "3. pycifrw [[conda]](https://anaconda.org/conda-forge/pycifrw) [[pip]](https://pypi.org/project/PyCifRW/) (tested on 4.4.1)\n",
    "4. *(Optional)* Jupyter / Jupyterlab for running this notebook locally\n",
    "4. *(Optional)* PyVis for visualization of the graph [[conda]](https://anaconda.org/conda-forge/pycifrw) [[pip]](https://pypi.org/project/PyCifRW/) (tested on 4.4.1)\n",
    "\n",
    "### Standalone files\n",
    "All of the listed files below can be found in the `properties` folder\n",
    "1. Covalent radius of the atoms (included here as **covalent_radius.json**)\n",
    "2. Electronegativity of the atoms (included here as **electronegativity.json**)"
   ]
  },
  {
   "cell_type": "code",
   "execution_count": null,
   "metadata": {},
   "outputs": [],
   "source": [
    "import json\n",
    "from itertools import product\n",
    "import numpy as np\n",
    "import CifFile  # This is the pycifrw module"
   ]
  },
  {
   "cell_type": "markdown",
   "metadata": {},
   "source": [
    "## Reading the \".cif\" file\n",
    "\n",
    "Some example \".cif\" files are included in the `example_cifs` folder. One can generate a graph for a different MOF by changing the `cif_filename` to the path of its coresponding \".cif\" file."
   ]
  },
  {
   "cell_type": "code",
   "execution_count": null,
   "metadata": {},
   "outputs": [],
   "source": [
    "# Reading a cif file into a Python-Dictionary-like object\n",
    "cif_filename = \"example_cifs\\DB0-m1_o2_o5_f0_pcu_repeat.cif\"\n",
    "mof = CifFile.ReadCif(cif_filename).first_block()"
   ]
  },
  {
   "cell_type": "code",
   "execution_count": null,
   "metadata": {},
   "outputs": [],
   "source": [
    "def read_property(element_list, path):\n",
    "    with open(path, 'r') as rf:\n",
    "        property = json.load(rf)\n",
    "    return np.array([property[i]  for i in element_list], dtype=float)"
   ]
  },
  {
   "cell_type": "code",
   "execution_count": null,
   "metadata": {},
   "outputs": [],
   "source": [
    "elements = mof[\"_atom_site_type_symbol\"]\n",
    "cov_r = read_property(elements, \"properties/covalent_radius.json\")\n",
    "eleneg = read_property(elements, \"properties/electronegativity.json\")"
   ]
  },
  {
   "cell_type": "code",
   "execution_count": null,
   "metadata": {},
   "outputs": [],
   "source": [
    "# Putting node information for the graph together\n",
    "node_info = {\n",
    "    \"node_label\": mof[\"_atom_site_label\"],\n",
    "    \"node_class\": elements,\n",
    "    \"node_feature_1\": cov_r,\n",
    "    \"node_feature_2\": eleneg,\n",
    "    \"node_target\": np.array(mof[\"_atom_type_partial_charge\"], dtype=float)\n",
    "}\n",
    "\n",
    "# Count the number of atoms in this MOF\n",
    "n_atoms = len(node_info[\"node_label\"])"
   ]
  },
  {
   "cell_type": "markdown",
   "metadata": {},
   "source": [
    "## Coordinate conversion\n",
    "\n",
    "Coordinates in the \".cif\" files are fractional, the following code generates a **conversion matrix** for converting fractional to Cartesian coordinates. Read more [here](https://en.wikipedia.org/wiki/Fractional_coordinates)."
   ]
  },
  {
   "cell_type": "code",
   "execution_count": null,
   "metadata": {},
   "outputs": [],
   "source": [
    "# Reading cell angles\n",
    "cell_ang = np.deg2rad(np.array([\n",
    "    mof[\"_cell_angle_alpha\"],\n",
    "    mof[\"_cell_angle_beta\"],\n",
    "    mof[\"_cell_angle_gamma\"],\n",
    "], dtype=float))\n",
    "\n",
    "# Reading cell lengths\n",
    "cell_vec = np.array([\n",
    "    mof[\"_cell_length_a\"],\n",
    "    mof[\"_cell_length_b\"],\n",
    "    mof[\"_cell_length_c\"],\n",
    "], dtype=float)\n",
    "\n",
    "# Calculate sin/cos of the angles\n",
    "cell_cos = np.cos(cell_ang)\n",
    "cell_sin = np.sin(cell_ang)\n",
    "\n",
    "# Calculate the volume of the cell\n",
    "cell_vol = np.prod(cell_vec) * \\\n",
    "    np.sqrt(1 - np.sum(cell_cos**2) + 2*np.prod(cell_cos))\n",
    "\n",
    "# Generate the conversion matrix\n",
    "frac2cart = np.zeros((3, 3))\n",
    "frac2cart[0, 0] = cell_vec[0]\n",
    "frac2cart[0, 1] = cell_vec[1] * cell_cos[2]\n",
    "frac2cart[0, 2] = cell_vec[2] * cell_cos[1]\n",
    "frac2cart[1, 1] = cell_vec[1] * cell_sin[2]\n",
    "frac2cart[1, 2] = cell_vec[2] * \\\n",
    "    (cell_cos[0]-cell_cos[1]*cell_cos[2]) / cell_sin[2]\n",
    "frac2cart[2, 2] = cell_vol / cell_vec[0] / cell_vec[1] / cell_sin[2]"
   ]
  },
  {
   "cell_type": "markdown",
   "metadata": {},
   "source": [
    "## Finding the bonds between atoms\n",
    "\n",
    "This first creates a 3x3x3 supercell, and then finds unique bonded atom pairs within the supercell. Essentially, this is applying the minimum image convension."
   ]
  },
  {
   "cell_type": "code",
   "execution_count": null,
   "metadata": {},
   "outputs": [],
   "source": [
    "# Reading fractional coordinates\n",
    "frac_xyz = np.array([\n",
    "    mof[\"_atom_site_fract_x\"],\n",
    "    mof[\"_atom_site_fract_y\"],\n",
    "    mof[\"_atom_site_fract_z\"]\n",
    "], dtype=float).T\n",
    "\n",
    "# Calculates the distance between atoms in vector form in fractional coordinates\n",
    "frac_diff = frac_xyz.repeat(n_atoms, axis=0) - np.tile(frac_xyz, (n_atoms, 1))"
   ]
  },
  {
   "cell_type": "code",
   "execution_count": null,
   "metadata": {},
   "outputs": [],
   "source": [
    "# Initialze a variable for storing all the distances\n",
    "cart_dist_mirrors = np.zeros((27, n_atoms ** 2))\n",
    "\n",
    "# Loop over each of the 3x3x3 cell (27 cells in total)\n",
    "for i, mirror in enumerate(product([-1, 0, 1], repeat=3)):\n",
    "    # Apply cell adjustments in fractional coordinates\n",
    "    frac_diff_mirror = (frac_diff + mirror).T\n",
    "    # Convert to Cartesian coordinates\n",
    "    cart_diff_mirror = frac2cart @ frac_diff_mirror\n",
    "    # Calculate the through-space distances from atoms the current mirror image\n",
    "    # to atoms in the original unit cell\n",
    "    cart_dist_mirrors[i] = np.linalg.norm(cart_diff_mirror, axis=0)\n",
    "\n",
    "# Find the shortest distances for each atom pair\n",
    "cart_dist = cart_dist_mirrors.min(0).reshape(n_atoms, n_atoms)\n",
    "\n",
    "# Calculate the theoretical bond lengths between each atom pair\n",
    "cov_r_mat = (cov_r.repeat(n_atoms, axis=0) + np.tile(cov_r, n_atoms)).reshape(n_atoms, n_atoms)"
   ]
  },
  {
   "cell_type": "code",
   "execution_count": null,
   "metadata": {},
   "outputs": [],
   "source": [
    "# Tolerance for detecting if two atoms are bonded\n",
    "bond_tol = 0.25\n",
    "# Exclude all atom pairs that are not bonded\n",
    "upper_bound = (cart_dist < (cov_r_mat+bond_tol))\n",
    "# Exclude all \"atom pairs\" that has a \"zero distance\"\n",
    "lower_bound = (cart_dist > 0)\n",
    "# Generate the adjacency matrix (with boolean values)\n",
    "edges = (upper_bound & lower_bound)"
   ]
  },
  {
   "cell_type": "markdown",
   "metadata": {},
   "source": [
    "### Note\n",
    "\n",
    "The following line of code generates a matrix that includes the bond distance between two atoms if bonded. One can using this as edge weights for the graph. However, it should be noted that **the bond distance is not a qualitative measure of the chemical bond** (i.e. shorter bonds are not always stronger)."
   ]
  },
  {
   "cell_type": "code",
   "execution_count": null,
   "metadata": {},
   "outputs": [],
   "source": [
    "# Using bond distances as edge weights\n",
    "edge_weights = np.where(edges, cart_dist, 0)"
   ]
  },
  {
   "cell_type": "markdown",
   "metadata": {},
   "source": [
    "## Visualizing the graph\n",
    "\n",
    "The following code will generate a graph network and save it as an HTML file. If it does not show properly in the Jupyter Notebook, please open the `test_mof_graph.html` file in a browser."
   ]
  },
  {
   "cell_type": "code",
   "execution_count": null,
   "metadata": {},
   "outputs": [],
   "source": [
    "from pyvis.network import Network\n",
    "\n",
    "g = Network(width=\"900px\", height=\"900px\", notebook=True)\n",
    "g.add_nodes(range(n_atoms), label=node_info[\"node_label\"])\n",
    "g.add_edges(np.argwhere(edges).tolist())\n",
    "g.show(\"test_mof_graph.html\")"
   ]
  }
 ],
 "metadata": {
  "interpreter": {
   "hash": "755fc024cadbb3e50b29e7af0ad0efa710faa01a1dc72f33056001fb929fcdaf"
  },
  "kernelspec": {
   "display_name": "Python 3.9.1 64-bit ('base': conda)",
   "language": "python",
   "name": "python3"
  },
  "language_info": {
   "codemirror_mode": {
    "name": "ipython",
    "version": 3
   },
   "file_extension": ".py",
   "mimetype": "text/x-python",
   "name": "python",
   "nbconvert_exporter": "python",
   "pygments_lexer": "ipython3",
   "version": "3.9.1"
  },
  "orig_nbformat": 4
 },
 "nbformat": 4,
 "nbformat_minor": 2
}
