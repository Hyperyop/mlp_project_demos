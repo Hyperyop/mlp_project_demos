{
 "cells": [
  {
   "cell_type": "markdown",
   "metadata": {},
   "source": [
    "# Generating a graph from a \".cif\" file (MOF structure)\n",
    "\n",
    "## Prerequisites\n",
    "\n",
    "1. Python (tested on 3.9.1)\n",
    "2. Numpy (tested on 1.20.2)\n",
    "3. pycifrw [[conda]](https://anaconda.org/conda-forge/pycifrw) [[pip]](https://pypi.org/project/PyCifRW/) (tested on 4.4.1)\n",
    "4. A list of covalent radius of the atoms (included here as **covalent_radius.json**)"
   ]
  },
  {
   "cell_type": "code",
   "execution_count": 1,
   "metadata": {},
   "outputs": [],
   "source": [
    "import json\n",
    "from itertools import product\n",
    "import numpy as np\n",
    "from pyvis.network import Network\n",
    "import CifFile  # This is the pycifrw module"
   ]
  },
  {
   "cell_type": "code",
   "execution_count": 2,
   "metadata": {},
   "outputs": [],
   "source": [
    "# Reading a cif file into a Python-Dictionary-like object\n",
    "cif_filename = \"example_cifs/DB0-m24_o19_o19_sra_repeat.cif\"\n",
    "mof = CifFile.ReadCif(cif_filename).first_block()"
   ]
  },
  {
   "cell_type": "code",
   "execution_count": 3,
   "metadata": {},
   "outputs": [],
   "source": [
    "# Extract information into lists/arrays\n",
    "charges = np.array(mof[\"_atom_type_partial_charge\"], dtype=float)\n",
    "labels = mof[\"_atom_site_label\"]\n",
    "elements = mof[\"_atom_site_type_symbol\"]\n",
    "n_atoms = len(elements)"
   ]
  },
  {
   "cell_type": "code",
   "execution_count": 4,
   "metadata": {},
   "outputs": [],
   "source": [
    "# Load covalent radius of the atoms\n",
    "with open(\"properties/covalent_radius.json\", 'r') as rf:\n",
    "    covalent_radius = json.load(rf)\n",
    "cov_r = np.array([covalent_radius[i]  for i in elements], dtype=float)\n",
    "cov_r_mat = (cov_r.repeat(n_atoms, axis=0) + np.tile(cov_r, n_atoms)).reshape(n_atoms, n_atoms)"
   ]
  },
  {
   "cell_type": "code",
   "execution_count": 5,
   "metadata": {},
   "outputs": [],
   "source": [
    "# Load electronegativity of the atoms\n",
    "with open(\"properties/electronegativity.json\", 'r') as rf:\n",
    "    electronegativity = json.load(rf)\n",
    "eleneg = np.array([electronegativity[i]  for i in elements], dtype=float)"
   ]
  },
  {
   "cell_type": "code",
   "execution_count": 6,
   "metadata": {},
   "outputs": [],
   "source": [
    "# Putting node information for the graph together\n",
    "node_info = {\n",
    "    \"node_label\": labels,\n",
    "    \"node_class\": elements,\n",
    "    \"node_feature_1\": cov_r,\n",
    "    \"node_feature_2\": eleneg,\n",
    "    \"node_target\": charges\n",
    "}"
   ]
  },
  {
   "cell_type": "markdown",
   "metadata": {},
   "source": [
    "## Coordinate conversion\n",
    "\n",
    "Coordinates in the \".cif\" files are fractional, the following code generates a conversion matrix for converting fractional to Cartesian coordinates. Read more [here](https://en.wikipedia.org/wiki/Fractional_coordinates)."
   ]
  },
  {
   "cell_type": "code",
   "execution_count": 7,
   "metadata": {},
   "outputs": [],
   "source": [
    "cell_ang = np.deg2rad(np.array([\n",
    "    mof[\"_cell_angle_alpha\"],\n",
    "    mof[\"_cell_angle_beta\"],\n",
    "    mof[\"_cell_angle_gamma\"],\n",
    "], dtype=float))\n",
    "\n",
    "cell_vec = np.array([\n",
    "    mof[\"_cell_length_a\"],\n",
    "    mof[\"_cell_length_b\"],\n",
    "    mof[\"_cell_length_c\"],\n",
    "], dtype=float)\n",
    "\n",
    "cell_cos = np.cos(cell_ang)\n",
    "cell_sin = np.sin(cell_ang)\n",
    "cell_vol = np.prod(cell_vec) * \\\n",
    "    np.sqrt(1 - np.sum(cell_cos**2) + 2*np.prod(cell_cos))\n",
    "    \n",
    "frac2cart = np.zeros((3, 3))\n",
    "frac2cart[0, 0] = cell_vec[0]\n",
    "frac2cart[0, 1] = cell_vec[1] * cell_cos[2]\n",
    "frac2cart[0, 2] = cell_vec[2] * cell_cos[1]\n",
    "frac2cart[1, 1] = cell_vec[1] * cell_sin[2]\n",
    "frac2cart[1, 2] = cell_vec[2] * \\\n",
    "    (cell_cos[0]-cell_cos[1]*cell_cos[2]) / cell_sin[2]\n",
    "frac2cart[2, 2] = cell_vol / cell_vec[0] / cell_vec[1] / cell_sin[2]"
   ]
  },
  {
   "cell_type": "markdown",
   "metadata": {},
   "source": [
    "# Option 1: Make a graph as if the MOF is a standalone molecule\n",
    "\n",
    "This is a simple approach, but no [periodic boundary conditions](https://en.wikipedia.org/wiki/Periodic_boundary_conditions) are considered."
   ]
  },
  {
   "cell_type": "code",
   "execution_count": 8,
   "metadata": {},
   "outputs": [],
   "source": [
    "frac_xyz = np.array([\n",
    "    mof[\"_atom_site_fract_x\"],\n",
    "    mof[\"_atom_site_fract_y\"],\n",
    "    mof[\"_atom_site_fract_z\"]\n",
    "], dtype=float)\n",
    "cart_xyz = (frac2cart @ frac_xyz).T"
   ]
  },
  {
   "cell_type": "code",
   "execution_count": 9,
   "metadata": {},
   "outputs": [],
   "source": [
    "cart_diff = cart_xyz.repeat(n_atoms, axis=0) - np.tile(cart_xyz, (n_atoms, 1))\n",
    "cart_dist = np.linalg.norm(cart_diff, axis=1).reshape(n_atoms, n_atoms)"
   ]
  },
  {
   "cell_type": "code",
   "execution_count": 10,
   "metadata": {},
   "outputs": [
    {
     "data": {
      "text/plain": [
       "28"
      ]
     },
     "execution_count": 10,
     "metadata": {},
     "output_type": "execute_result"
    }
   ],
   "source": [
    "bond_tol = 0.25\n",
    "upper_bound = (cart_dist < (cov_r_mat+bond_tol))\n",
    "lower_bound = (cart_dist > 0)\n",
    "edges = (upper_bound & lower_bound)\n",
    "edge_weights = np.where(edges, cart_dist, 0)\n",
    "np.count_nonzero(edges)"
   ]
  },
  {
   "cell_type": "code",
   "execution_count": null,
   "metadata": {},
   "outputs": [],
   "source": [
    "g = Network(width=\"1280px\", height=\"720px\", notebook=True)\n",
    "g.add_nodes(range(n_atoms), label=labels)\n",
    "g.add_edges(np.argwhere(edges).tolist())\n",
    "g.show(\"opt1.html\")"
   ]
  },
  {
   "cell_type": "markdown",
   "metadata": {},
   "source": [
    "# Option 2: Make a graph of a MOF with minimum image convention\n",
    "\n",
    "This first creates a 3x3x3 supercell, and then finds unique bonded atom pairs within the supercell."
   ]
  },
  {
   "cell_type": "code",
   "execution_count": 11,
   "metadata": {},
   "outputs": [],
   "source": [
    "frac_xyz = np.array([\n",
    "    mof[\"_atom_site_fract_x\"],\n",
    "    mof[\"_atom_site_fract_y\"],\n",
    "    mof[\"_atom_site_fract_z\"]\n",
    "], dtype=float).T\n",
    "frac_diff = frac_xyz.repeat(n_atoms, axis=0) - np.tile(frac_xyz, (n_atoms, 1))"
   ]
  },
  {
   "cell_type": "code",
   "execution_count": 12,
   "metadata": {},
   "outputs": [],
   "source": [
    "cart_dist_mirrors = np.zeros((27, n_atoms ** 2))\n",
    "for i, mirror in enumerate(product([-1, 0, 1], repeat=3)):\n",
    "    frac_diff_mirror = (frac_diff + mirror).T\n",
    "    cart_diff_mirror = frac2cart @ frac_diff_mirror\n",
    "    cart_dist_mirrors[i] = np.linalg.norm(cart_diff_mirror, axis=0)\n",
    "cart_dist = cart_dist_mirrors.min(0).reshape(n_atoms, n_atoms)"
   ]
  },
  {
   "cell_type": "code",
   "execution_count": 13,
   "metadata": {},
   "outputs": [
    {
     "data": {
      "text/plain": [
       "38"
      ]
     },
     "execution_count": 13,
     "metadata": {},
     "output_type": "execute_result"
    }
   ],
   "source": [
    "bond_tol = 0.25\n",
    "upper_bound = (cart_dist < (cov_r_mat+bond_tol))\n",
    "lower_bound = (cart_dist > 0)\n",
    "edges = (upper_bound & lower_bound)\n",
    "edge_weights = np.where(edges, cart_dist, 0)\n",
    "np.count_nonzero(edges)"
   ]
  },
  {
   "cell_type": "code",
   "execution_count": 14,
   "metadata": {},
   "outputs": [
    {
     "data": {
      "text/html": [
       "\n",
       "        <iframe\n",
       "            width=\"1280px\"\n",
       "            height=\"720px\"\n",
       "            src=\"example.html\"\n",
       "            frameborder=\"0\"\n",
       "            allowfullscreen\n",
       "            \n",
       "        ></iframe>\n",
       "        "
      ],
      "text/plain": [
       "<IPython.lib.display.IFrame at 0x2394e0dfe50>"
      ]
     },
     "execution_count": 14,
     "metadata": {},
     "output_type": "execute_result"
    }
   ],
   "source": [
    "g = Network(width=\"1280px\", height=\"720px\", notebook=True)\n",
    "g.add_nodes(range(n_atoms), label=labels)\n",
    "g.add_edges(np.argwhere(edges).tolist())\n",
    "g.show(\"opt2.html\")"
   ]
  }
 ],
 "metadata": {
  "interpreter": {
   "hash": "755fc024cadbb3e50b29e7af0ad0efa710faa01a1dc72f33056001fb929fcdaf"
  },
  "kernelspec": {
   "display_name": "Python 3.9.1 64-bit ('base': conda)",
   "language": "python",
   "name": "python3"
  },
  "language_info": {
   "codemirror_mode": {
    "name": "ipython",
    "version": 3
   },
   "file_extension": ".py",
   "mimetype": "text/x-python",
   "name": "python",
   "nbconvert_exporter": "python",
   "pygments_lexer": "ipython3",
   "version": "3.8.10"
  },
  "orig_nbformat": 4
 },
 "nbformat": 4,
 "nbformat_minor": 2
}
