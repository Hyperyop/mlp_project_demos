{
 "cells": [
  {
   "cell_type": "markdown",
   "metadata": {},
   "source": [
    "This code is tested with the following packages:\n",
    "- Python 3.8.13\n",
    "- numpy 1.22.4\n",
    "- pandas 1.4.2\n",
    "- pymatgen 2022.5.26"
   ]
  },
  {
   "cell_type": "code",
   "execution_count": 1,
   "metadata": {},
   "outputs": [],
   "source": [
    "from generate_graph import generate_graph\n",
    "import numpy as np"
   ]
  },
  {
   "cell_type": "markdown",
   "metadata": {},
   "source": [
    "Simple Usage:\n",
    "- `cif_str`: path to the chemical structure file\n",
    "- `graph_dict`: a dictionary that contain all information about the graph"
   ]
  },
  {
   "cell_type": "code",
   "execution_count": 2,
   "metadata": {},
   "outputs": [
    {
     "data": {
      "text/plain": [
       "dict_keys(['node_label', 'node_class', 'node_target', 'node_simple_feature', 'node_radial_feature', 'edges'])"
      ]
     },
     "execution_count": 2,
     "metadata": {},
     "output_type": "execute_result"
    }
   ],
   "source": [
    "cif_str = \"example_input/DB0-m24_o19_o19_sra_repeat.cif\"\n",
    "graph_dict = generate_graph(cif_str)\n",
    "graph_dict.keys()"
   ]
  },
  {
   "cell_type": "markdown",
   "metadata": {},
   "source": [
    "Demo: Get the number of nodes in the graph"
   ]
  },
  {
   "cell_type": "code",
   "execution_count": 3,
   "metadata": {},
   "outputs": [
    {
     "data": {
      "text/plain": [
       "16"
      ]
     },
     "execution_count": 3,
     "metadata": {},
     "output_type": "execute_result"
    }
   ],
   "source": [
    "len(graph_dict[\"node_label\"])"
   ]
  },
  {
   "cell_type": "markdown",
   "metadata": {},
   "source": [
    "`node_label` are identifiers of each node"
   ]
  },
  {
   "cell_type": "code",
   "execution_count": 4,
   "metadata": {},
   "outputs": [
    {
     "data": {
      "text/plain": [
       "array(['V1', 'V2', 'C1', 'C2', 'C3', 'C4', 'C5', 'C6', 'O1', 'O2', 'O3',\n",
       "       'O4', 'O5', 'O6', 'F1', 'F2'], dtype='<U2')"
      ]
     },
     "execution_count": 4,
     "metadata": {},
     "output_type": "execute_result"
    }
   ],
   "source": [
    "graph_dict[\"node_label\"]"
   ]
  },
  {
   "cell_type": "markdown",
   "metadata": {},
   "source": [
    "`node_class` denotes the chemical element of each atom/node"
   ]
  },
  {
   "cell_type": "code",
   "execution_count": 5,
   "metadata": {},
   "outputs": [
    {
     "data": {
      "text/plain": [
       "array(['V', 'V', 'C', 'C', 'C', 'C', 'C', 'C', 'O', 'O', 'O', 'O', 'O',\n",
       "       'O', 'F', 'F'], dtype='<U1')"
      ]
     },
     "execution_count": 5,
     "metadata": {},
     "output_type": "execute_result"
    }
   ],
   "source": [
    "graph_dict[\"node_class\"]"
   ]
  },
  {
   "cell_type": "markdown",
   "metadata": {},
   "source": [
    "`node_class` denotes the chemical charge of each atom, this is used as training targets for the ML model"
   ]
  },
  {
   "cell_type": "code",
   "execution_count": 6,
   "metadata": {},
   "outputs": [
    {
     "data": {
      "text/plain": [
       "array([ 1.305764,  1.296616, -0.191794,  0.07363 ,  0.080816, -0.193092,\n",
       "        0.798576,  0.763946, -0.492667, -0.521448, -0.426144, -0.548471,\n",
       "       -0.516446, -0.543787, -0.44461 , -0.440887])"
      ]
     },
     "execution_count": 6,
     "metadata": {},
     "output_type": "execute_result"
    }
   ],
   "source": [
    "graph_dict[\"node_target\"]"
   ]
  },
  {
   "cell_type": "markdown",
   "metadata": {},
   "source": [
    "`node_simple_feature` are feature vectors of each atom, this is simple because they are obtained from existing tables based on the node's class (chemical element of the atom)"
   ]
  },
  {
   "cell_type": "code",
   "execution_count": 7,
   "metadata": {},
   "outputs": [
    {
     "data": {
      "text/plain": [
       "(16, 8)"
      ]
     },
     "execution_count": 7,
     "metadata": {},
     "output_type": "execute_result"
    }
   ],
   "source": [
    "graph_dict[\"node_simple_feature\"].shape"
   ]
  },
  {
   "cell_type": "code",
   "execution_count": 8,
   "metadata": {},
   "outputs": [
    {
     "data": {
      "text/plain": [
       "array([2.300000e+01, 2.520000e+02, 5.094150e+01, 1.530000e+02,\n",
       "       8.700000e+01, 1.273344e-01, 6.746187e+00, 2.070000e+02])"
      ]
     },
     "execution_count": 8,
     "metadata": {},
     "output_type": "execute_result"
    }
   ],
   "source": [
    "graph_dict[\"node_simple_feature\"][0]"
   ]
  },
  {
   "cell_type": "markdown",
   "metadata": {},
   "source": [
    "`node_radial_feature` are feature vectors of each atom, this requires some computation time. Can be used by itself or combined with `node_simple_feature`. This is also the training inputs for the CatBoost models."
   ]
  },
  {
   "cell_type": "code",
   "execution_count": 9,
   "metadata": {},
   "outputs": [
    {
     "data": {
      "text/plain": [
       "(16, 168)"
      ]
     },
     "execution_count": 9,
     "metadata": {},
     "output_type": "execute_result"
    }
   ],
   "source": [
    "graph_dict[\"node_radial_feature\"].shape"
   ]
  },
  {
   "cell_type": "code",
   "execution_count": 10,
   "metadata": {},
   "outputs": [
    {
     "data": {
      "text/plain": [
       "array([2.31489731e-11, 2.53536730e-04, 1.70688043e+00, 1.36777656e+01,\n",
       "       4.21455441e+00, 5.73082764e-03, 1.29592598e-06, 1.09087646e-01,\n",
       "       5.11141972e+00, 6.91124952e+00, 4.58970014e+00, 1.01094415e+01,\n",
       "       1.71522358e+01, 1.68032838e+01, 6.79405139e+00, 1.06229668e+01,\n",
       "       2.10153894e+01, 8.03861663e+00, 1.28016816e+01, 2.24650971e+01,\n",
       "       2.30036737e+00, 4.65354155e+00, 3.76653856e+01, 1.37658070e+01,\n",
       "       1.26709530e+01, 1.40612295e+01, 2.96946097e+01, 2.54025447e+01,\n",
       "       1.91638908e+02, 3.72044665e+02, 7.08036042e+02, 9.92644131e+02,\n",
       "       1.06992173e+03, 1.15387163e+03, 8.83906646e+02, 1.07107641e+03,\n",
       "       2.23400623e+03, 1.07052286e+03, 8.78935185e+02, 1.16459558e+03,\n",
       "       1.06511322e+03, 9.92446379e+02, 7.08116448e+02, 3.73286028e+02,\n",
       "       2.57583371e+02, 3.45372733e+02, 4.20869380e+00, 1.74149615e+01,\n",
       "       5.10230979e+00, 3.15665701e+00, 1.03829490e+01, 1.70372387e+01,\n",
       "       1.76578250e+01, 1.06971801e+01, 8.86933775e+00, 6.16107148e+00,\n",
       "       3.17044713e+00, 2.69218586e+00, 6.11479339e-01, 9.03532264e-02,\n",
       "       1.53897227e-02, 3.32078806e+00, 1.54342881e+01, 3.05929676e+01,\n",
       "       4.45309004e+01, 5.62616791e+01, 6.58851192e+01, 7.37211766e+01,\n",
       "       1.84838757e-02, 4.42752089e+00, 2.32721496e+01, 4.99015505e+01,\n",
       "       7.55281797e+01, 9.68850415e+01, 1.13779290e+02, 1.26948935e+02,\n",
       "       0.00000000e+00, 0.00000000e+00, 0.00000000e+00, 3.95826787e+00,\n",
       "       3.44000000e+00, 0.00000000e+00, 0.00000000e+00, 0.00000000e+00,\n",
       "       0.00000000e+00, 2.55000000e+00, 2.59042174e+00, 1.91950488e+00,\n",
       "       3.78966529e+00, 3.44000000e+00, 2.66785689e+00, 0.00000000e+00,\n",
       "       2.60038691e+00, 3.44000000e+00, 2.71065673e+00, 2.55000000e+00,\n",
       "       3.09266239e+00, 0.00000000e+00, 3.53957608e+00, 2.98456359e+00,\n",
       "       2.44541774e+00, 3.98000000e+00, 2.93804777e+00, 3.07809329e+00,\n",
       "       3.97943888e+00, 3.97360559e+00, 3.91516547e+00, 3.62754970e+00,\n",
       "       3.44110589e+00, 3.44000087e+00, 2.55227937e+00, 2.55000007e+00,\n",
       "       2.55083483e+00, 2.62534133e+00, 1.97671237e+00, 3.67744484e+00,\n",
       "       3.59364691e+00, 3.12181862e+00, 3.37616521e+00, 2.56275134e+00,\n",
       "       2.54464691e+00, 3.23377625e+00, 3.28193036e+00, 2.89222186e+00,\n",
       "       3.31734754e+00, 3.47581599e+00, 3.23382797e+00, 2.68540783e+00,\n",
       "       2.62767324e+00, 3.12482716e+00, 2.90178709e+00, 2.99739012e+00,\n",
       "       9.26413233e+00, 7.69735989e+00, 8.45732624e+00, 1.13454772e+01,\n",
       "       8.14138060e+00, 8.58117143e+00, 1.01095256e+01, 8.01749797e+00,\n",
       "       9.32675606e+00, 9.35458021e+00, 8.19149619e+00, 8.86403882e+00,\n",
       "       9.47296559e+00, 7.71633039e+00, 1.08473250e+01, 9.87496551e+00,\n",
       "       7.56665992e+00, 9.09461315e+00, 7.78638517e+00, 8.42680084e+00,\n",
       "       1.01146245e+01, 9.01699107e+00, 8.33645323e+00, 9.55705513e+00,\n",
       "       8.65736159e+00, 8.92924482e+00, 9.34198703e+00, 8.92720515e+00,\n",
       "       8.63518699e+00, 9.59208012e+00, 8.31871526e+00, 9.01620563e+00,\n",
       "       1.01149254e+01, 8.43870170e+00, 8.46539423e+00, 9.20762627e+00])"
      ]
     },
     "execution_count": 10,
     "metadata": {},
     "output_type": "execute_result"
    }
   ],
   "source": [
    "graph_dict[\"node_radial_feature\"][0]"
   ]
  },
  {
   "cell_type": "markdown",
   "metadata": {},
   "source": [
    "`edges` are edges that connect nodes in the graph. Each pair of indices is in the same order of all arrays above."
   ]
  },
  {
   "cell_type": "code",
   "execution_count": 11,
   "metadata": {},
   "outputs": [
    {
     "data": {
      "text/plain": [
       "array([[ 0, 14],\n",
       "       [ 0, 14],\n",
       "       [ 0, 11],\n",
       "       [ 0, 10],\n",
       "       [ 0,  9],\n",
       "       [ 0,  8],\n",
       "       [ 1, 15],\n",
       "       [ 1, 15],\n",
       "       [ 1,  8],\n",
       "       [ 1, 13],\n",
       "       [ 1, 10],\n",
       "       [ 1, 12],\n",
       "       [ 2,  3],\n",
       "       [ 2,  6],\n",
       "       [ 3,  4],\n",
       "       [ 4,  5],\n",
       "       [ 5,  7],\n",
       "       [ 6, 13],\n",
       "       [ 6, 11],\n",
       "       [ 7, 12],\n",
       "       [ 7,  9]])"
      ]
     },
     "execution_count": 11,
     "metadata": {},
     "output_type": "execute_result"
    }
   ],
   "source": [
    "graph_dict[\"edges\"]"
   ]
  },
  {
   "cell_type": "markdown",
   "metadata": {},
   "source": [
    "Saving the graph in one numpy file"
   ]
  },
  {
   "cell_type": "code",
   "execution_count": 12,
   "metadata": {},
   "outputs": [],
   "source": [
    "np.savez(\"example_output/DB0-m24_o19_o19_sra_repeat.npz\", **graph_dict)"
   ]
  },
  {
   "cell_type": "markdown",
   "metadata": {},
   "source": [
    "Loading the saved graph "
   ]
  },
  {
   "cell_type": "code",
   "execution_count": 13,
   "metadata": {},
   "outputs": [
    {
     "data": {
      "text/plain": [
       "['node_label',\n",
       " 'node_class',\n",
       " 'node_target',\n",
       " 'node_simple_feature',\n",
       " 'node_radial_feature',\n",
       " 'edges']"
      ]
     },
     "execution_count": 13,
     "metadata": {},
     "output_type": "execute_result"
    }
   ],
   "source": [
    "graph_npz = np.load(\"example_output/DB0-m24_o19_o19_sra_repeat.npz\")\n",
    "graph_npz.files"
   ]
  },
  {
   "cell_type": "markdown",
   "metadata": {},
   "source": [
    "Information can be accessed the same way as a python dictionary"
   ]
  },
  {
   "cell_type": "code",
   "execution_count": 14,
   "metadata": {},
   "outputs": [
    {
     "data": {
      "text/plain": [
       "array(['V1', 'V2', 'C1', 'C2', 'C3', 'C4', 'C5', 'C6', 'O1', 'O2', 'O3',\n",
       "       'O4', 'O5', 'O6', 'F1', 'F2'], dtype='<U2')"
      ]
     },
     "execution_count": 14,
     "metadata": {},
     "output_type": "execute_result"
    }
   ],
   "source": [
    "graph_npz[\"node_label\"]"
   ]
  }
 ],
 "metadata": {
  "interpreter": {
   "hash": "4f3bbd5abaf6775d77c558af4cb80aa61edf02926f40313f58ca376986b34a43"
  },
  "kernelspec": {
   "display_name": "Python 3.8.13 ('milar')",
   "language": "python",
   "name": "python3"
  },
  "language_info": {
   "codemirror_mode": {
    "name": "ipython",
    "version": 3
   },
   "file_extension": ".py",
   "mimetype": "text/x-python",
   "name": "python",
   "nbconvert_exporter": "python",
   "pygments_lexer": "ipython3",
   "version": "3.8.13"
  },
  "orig_nbformat": 4
 },
 "nbformat": 4,
 "nbformat_minor": 2
}
